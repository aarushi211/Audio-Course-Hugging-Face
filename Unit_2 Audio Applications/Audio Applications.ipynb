{
 "cells": [
  {
   "cell_type": "code",
   "execution_count": 6,
   "id": "f914dda3-45cc-4a3e-aa60-f5cb5d4d5f70",
   "metadata": {},
   "outputs": [],
   "source": [
    "from datasets import load_dataset\n",
    "from datasets import Audio\n",
    "from transformers import pipeline"
   ]
  },
  {
   "cell_type": "code",
   "execution_count": 7,
   "id": "fe1c87f1-98da-49a3-90e7-a06075e86a8f",
   "metadata": {},
   "outputs": [],
   "source": [
    "minds = load_dataset(\"PolyAI/minds14\", name=\"en-AU\", split=\"train\")\n",
    "minds = minds.cast_column(\"audio\", Audio(sampling_rate=16_000))"
   ]
  },
  {
   "cell_type": "markdown",
   "id": "7be8144b-6786-44cb-9e05-560f53abe476",
   "metadata": {},
   "source": [
    "## Audio Classification"
   ]
  },
  {
   "cell_type": "code",
   "execution_count": 8,
   "id": "9d539aa5-ae94-4d7b-9ecb-d9a09b9f0419",
   "metadata": {},
   "outputs": [
    {
     "name": "stderr",
     "output_type": "stream",
     "text": [
      "Device set to use cpu\n"
     ]
    }
   ],
   "source": [
    "classifier = pipeline(\n",
    "    \"audio-classification\",\n",
    "    model=\"anton-l/xtreme_s_xlsr_300m_minds14\",\n",
    ")"
   ]
  },
  {
   "cell_type": "code",
   "execution_count": 9,
   "id": "0e396e61-80fc-41be-9513-384a084f1901",
   "metadata": {},
   "outputs": [
    {
     "data": {
      "text/plain": [
       "<transformers.pipelines.audio_classification.AudioClassificationPipeline at 0x1dbf63382d0>"
      ]
     },
     "execution_count": 9,
     "metadata": {},
     "output_type": "execute_result"
    }
   ],
   "source": [
    "classifier"
   ]
  },
  {
   "cell_type": "code",
   "execution_count": 10,
   "id": "24b49a59-7f92-4ce7-a0a7-d3a7253b2192",
   "metadata": {},
   "outputs": [],
   "source": [
    "example = minds[0]"
   ]
  },
  {
   "cell_type": "code",
   "execution_count": 11,
   "id": "cbcbbc85-3e69-485f-a987-64da9604987c",
   "metadata": {},
   "outputs": [
    {
     "data": {
      "text/plain": [
       "[{'score': 0.9625311493873596, 'label': 'pay_bill'},\n",
       " {'score': 0.02867273800075054, 'label': 'freeze'},\n",
       " {'score': 0.003349794540554285, 'label': 'card_issues'},\n",
       " {'score': 0.002005802933126688, 'label': 'abroad'},\n",
       " {'score': 0.0008484324789606035, 'label': 'high_value_payment'},\n",
       " {'score': 0.000736794900149107, 'label': 'direct_debit'},\n",
       " {'score': 0.0004056991310790181, 'label': 'latest_transactions'},\n",
       " {'score': 0.0003397076216060668, 'label': 'joint_account'},\n",
       " {'score': 0.00033127880305983126, 'label': 'address'},\n",
       " {'score': 0.0003288650477770716, 'label': 'balance'},\n",
       " {'score': 0.00014877492503728718, 'label': 'app_error'},\n",
       " {'score': 0.00014772488793823868, 'label': 'atm_limit'},\n",
       " {'score': 8.815681940177456e-05, 'label': 'cash_deposit'},\n",
       " {'score': 6.512475374620408e-05, 'label': 'business_loan'}]"
      ]
     },
     "execution_count": 11,
     "metadata": {},
     "output_type": "execute_result"
    }
   ],
   "source": [
    "classifier(example[\"audio\"][\"array\"])"
   ]
  },
  {
   "cell_type": "code",
   "execution_count": 12,
   "id": "10967eaa-4245-4076-b9c4-afc404a6e554",
   "metadata": {},
   "outputs": [
    {
     "data": {
      "text/plain": [
       "'pay_bill'"
      ]
     },
     "execution_count": 12,
     "metadata": {},
     "output_type": "execute_result"
    }
   ],
   "source": [
    "id2label = minds.features[\"intent_class\"].int2str\n",
    "id2label(example[\"intent_class\"])"
   ]
  },
  {
   "cell_type": "markdown",
   "id": "48560799-0378-4d95-b543-65a5237f363e",
   "metadata": {},
   "source": [
    "## Speech Recognition (STT)"
   ]
  },
  {
   "cell_type": "markdown",
   "id": "64a04559",
   "metadata": {},
   "source": [
    "Automatic speech recognition: transform audio clips into text by transcribing them automatically. You can get a text representation of a recording of someone speaking, like “How are you doing today?“. Rather useful for note taking!"
   ]
  },
  {
   "cell_type": "code",
   "execution_count": 13,
   "id": "036b7e66-7bfb-442f-be34-293741df0507",
   "metadata": {},
   "outputs": [
    {
     "name": "stderr",
     "output_type": "stream",
     "text": [
      "No model was supplied, defaulted to facebook/wav2vec2-base-960h and revision 22aad52 (https://huggingface.co/facebook/wav2vec2-base-960h).\n",
      "Using a pipeline without specifying a model name and revision in production is not recommended.\n",
      "C:\\Users\\aarus\\anaconda3\\envs\\indicf5\\Lib\\site-packages\\huggingface_hub\\file_download.py:143: UserWarning: `huggingface_hub` cache-system uses symlinks by default to efficiently store duplicated files but your machine does not support them in C:\\Users\\aarus\\.cache\\huggingface\\hub\\models--facebook--wav2vec2-base-960h. Caching files will still work but in a degraded version that might require more space on your disk. This warning can be disabled by setting the `HF_HUB_DISABLE_SYMLINKS_WARNING` environment variable. For more details, see https://huggingface.co/docs/huggingface_hub/how-to-cache#limitations.\n",
      "To support symlinks on Windows, you either need to activate Developer Mode or to run Python as an administrator. In order to activate developer mode, see this article: https://docs.microsoft.com/en-us/windows/apps/get-started/enable-your-device-for-development\n",
      "  warnings.warn(message)\n",
      "Some weights of Wav2Vec2ForCTC were not initialized from the model checkpoint at facebook/wav2vec2-base-960h and are newly initialized: ['wav2vec2.masked_spec_embed']\n",
      "You should probably TRAIN this model on a down-stream task to be able to use it for predictions and inference.\n",
      "Device set to use cpu\n"
     ]
    }
   ],
   "source": [
    "asr = pipeline(\"automatic-speech-recognition\")"
   ]
  },
  {
   "cell_type": "code",
   "execution_count": 14,
   "id": "d84f169f-7070-4e81-be13-b415820df218",
   "metadata": {},
   "outputs": [
    {
     "data": {
      "text/plain": [
       "{'text': 'I WOULD LIKE TO PAY MY ELECTRICITY BILL USING MY CAD CAN YOU PLEASE ASSIST'}"
      ]
     },
     "execution_count": 14,
     "metadata": {},
     "output_type": "execute_result"
    }
   ],
   "source": [
    "asr(example[\"audio\"][\"array\"])"
   ]
  },
  {
   "cell_type": "code",
   "execution_count": 15,
   "id": "6849c996-1fb3-47dd-a60e-090fdcf398df",
   "metadata": {},
   "outputs": [
    {
     "data": {
      "text/plain": [
       "'I would like to pay my electricity bill using my card can you please assist'"
      ]
     },
     "execution_count": 15,
     "metadata": {},
     "output_type": "execute_result"
    }
   ],
   "source": [
    "example[\"english_transcription\"]"
   ]
  },
  {
   "cell_type": "code",
   "execution_count": 16,
   "id": "4d6d16c2-1067-44c6-8ba8-7a26f62cc197",
   "metadata": {},
   "outputs": [
    {
     "name": "stdout",
     "output_type": "stream",
     "text": [
      "4.51.3\n"
     ]
    }
   ],
   "source": [
    "import transformers\n",
    "print(transformers.__version__)"
   ]
  },
  {
   "cell_type": "markdown",
   "id": "f08981bd-96d5-4e29-b235-0031780f952d",
   "metadata": {},
   "source": [
    "## Text to Speech"
   ]
  },
  {
   "cell_type": "code",
   "execution_count": 17,
   "id": "7e27b2e3-6fe6-4186-8bec-84fbd513a8e2",
   "metadata": {},
   "outputs": [
    {
     "name": "stderr",
     "output_type": "stream",
     "text": [
      "C:\\Users\\aarus\\anaconda3\\envs\\indicf5\\Lib\\site-packages\\huggingface_hub\\file_download.py:143: UserWarning: `huggingface_hub` cache-system uses symlinks by default to efficiently store duplicated files but your machine does not support them in C:\\Users\\aarus\\.cache\\huggingface\\hub\\models--suno--bark-small. Caching files will still work but in a degraded version that might require more space on your disk. This warning can be disabled by setting the `HF_HUB_DISABLE_SYMLINKS_WARNING` environment variable. For more details, see https://huggingface.co/docs/huggingface_hub/how-to-cache#limitations.\n",
      "To support symlinks on Windows, you either need to activate Developer Mode or to run Python as an administrator. In order to activate developer mode, see this article: https://docs.microsoft.com/en-us/windows/apps/get-started/enable-your-device-for-development\n",
      "  warnings.warn(message)\n",
      "Device set to use cpu\n"
     ]
    }
   ],
   "source": [
    "pipe = pipeline(\"text-to-speech\", model=\"suno/bark-small\")"
   ]
  },
  {
   "cell_type": "code",
   "execution_count": 18,
   "id": "2d8b0b53-5af0-449b-8b00-3605cfb6e19b",
   "metadata": {},
   "outputs": [],
   "source": [
    "from IPython.display import Audio"
   ]
  },
  {
   "cell_type": "code",
   "execution_count": null,
   "id": "6f5091ec-1546-47be-ac28-26b910eb2dd9",
   "metadata": {},
   "outputs": [],
   "source": [
    "text = \"Ladybugs have had important roles in culture and religion, being associated with luck, love, fertility and prophecy. \"\n",
    "output = pipe(text)\n",
    "Audio(output[\"audio\"], rate=output[\"sampling_rate\"])"
   ]
  },
  {
   "cell_type": "markdown",
   "id": "dbf95eec-1bd2-4c9c-863a-95ad833657f9",
   "metadata": {},
   "source": [
    "## Music Generation"
   ]
  },
  {
   "cell_type": "code",
   "execution_count": null,
   "id": "8590da10-1dd6-4af4-93ef-778f004b75e7",
   "metadata": {},
   "outputs": [],
   "source": [
    "music_pipe = pipeline(\"text-to-audio\", model=\"facebook/musicgen-small\")"
   ]
  },
  {
   "cell_type": "code",
   "execution_count": null,
   "id": "02729aca-3d7d-493b-bbdf-d1619ff0a5e5",
   "metadata": {},
   "outputs": [],
   "source": [
    "text = \"90s rock song with electric guitar and heavy drums\""
   ]
  },
  {
   "cell_type": "code",
   "execution_count": null,
   "id": "3e39eee5-1aad-42b8-a6fb-ecad7a66d9d6",
   "metadata": {},
   "outputs": [],
   "source": [
    "forward_params = {\"max_new_tokens\": 512}\n",
    "\n",
    "output = music_pipe(text, forward_params=forward_params)\n",
    "Audio(output[\"audio\"][0], rate=output[\"sampling_rate\"])"
   ]
  }
 ],
 "metadata": {
  "kernelspec": {
   "display_name": "Python (indicf5)",
   "language": "python",
   "name": "indicf5"
  },
  "language_info": {
   "codemirror_mode": {
    "name": "ipython",
    "version": 3
   },
   "file_extension": ".py",
   "mimetype": "text/x-python",
   "name": "python",
   "nbconvert_exporter": "python",
   "pygments_lexer": "ipython3",
   "version": "3.11.11"
  }
 },
 "nbformat": 4,
 "nbformat_minor": 5
}
