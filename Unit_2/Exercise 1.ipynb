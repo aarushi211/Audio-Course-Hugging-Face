{
 "cells": [
  {
   "cell_type": "code",
   "execution_count": 3,
   "id": "696f7316-f5f9-478c-a815-3cdac567d113",
   "metadata": {},
   "outputs": [
    {
     "name": "stderr",
     "output_type": "stream",
     "text": [
      "C:\\Users\\aarus\\anaconda3\\envs\\indicf5\\Lib\\site-packages\\tqdm\\auto.py:21: TqdmWarning: IProgress not found. Please update jupyter and ipywidgets. See https://ipywidgets.readthedocs.io/en/stable/user_install.html\n",
      "  from .autonotebook import tqdm as notebook_tqdm\n"
     ]
    }
   ],
   "source": [
    "from datasets import load_dataset"
   ]
  },
  {
   "cell_type": "code",
   "execution_count": 8,
   "id": "c4111e8e-1a6d-4689-ab99-e094cc94511b",
   "metadata": {},
   "outputs": [],
   "source": [
    "dataset = load_dataset(\"facebook/voxpopuli\", \"en\", split=\"train\", streaming=True)"
   ]
  },
  {
   "cell_type": "code",
   "execution_count": 9,
   "id": "b49c91f6-eae2-44df-9973-ab6fa29a5eed",
   "metadata": {},
   "outputs": [
    {
     "data": {
      "text/plain": [
       "IterableDataset({\n",
       "    features: ['audio_id', 'language', 'audio', 'raw_text', 'normalized_text', 'gender', 'speaker_id', 'is_gold_transcript', 'accent'],\n",
       "    num_shards: 1\n",
       "})"
      ]
     },
     "execution_count": 9,
     "metadata": {},
     "output_type": "execute_result"
    }
   ],
   "source": [
    "dataset"
   ]
  },
  {
   "cell_type": "code",
   "execution_count": 10,
   "id": "838a1511-6912-4b41-836a-3f98514cd94b",
   "metadata": {},
   "outputs": [
    {
     "ename": "KeyError",
     "evalue": "'train_part_0/20180418-0900-PLENARY-3-en_20180418-08:50:36_17'",
     "output_type": "error",
     "traceback": [
      "\u001b[31m---------------------------------------------------------------------------\u001b[39m",
      "\u001b[31mKeyError\u001b[39m                                  Traceback (most recent call last)",
      "\u001b[36mCell\u001b[39m\u001b[36m \u001b[39m\u001b[32mIn[10]\u001b[39m\u001b[32m, line 2\u001b[39m\n\u001b[32m      1\u001b[39m \u001b[38;5;28;01mfrom\u001b[39;00m\u001b[38;5;250m \u001b[39m\u001b[34;01mitertools\u001b[39;00m\u001b[38;5;250m \u001b[39m\u001b[38;5;28;01mimport\u001b[39;00m islice\n\u001b[32m----> \u001b[39m\u001b[32m2\u001b[39m sample = \u001b[38;5;28mnext\u001b[39m(islice(dataset, \u001b[32m2\u001b[39m, \u001b[32m3\u001b[39m))\n\u001b[32m      3\u001b[39m sample\n",
      "\u001b[36mFile \u001b[39m\u001b[32m~\\anaconda3\\envs\\indicf5\\Lib\\site-packages\\datasets\\iterable_dataset.py:2270\u001b[39m, in \u001b[36mIterableDataset.__iter__\u001b[39m\u001b[34m(self)\u001b[39m\n\u001b[32m   2267\u001b[39m         \u001b[38;5;28;01myield\u001b[39;00m formatter.format_row(pa_table)\n\u001b[32m   2268\u001b[39m     \u001b[38;5;28;01mreturn\u001b[39;00m\n\u001b[32m-> \u001b[39m\u001b[32m2270\u001b[39m \u001b[38;5;28;01mfor\u001b[39;00m key, example \u001b[38;5;129;01min\u001b[39;00m ex_iterable:\n\u001b[32m   2271\u001b[39m     \u001b[38;5;66;03m# no need to format thanks to FormattedExamplesIterable\u001b[39;00m\n\u001b[32m   2272\u001b[39m     \u001b[38;5;28;01myield\u001b[39;00m example\n",
      "\u001b[36mFile \u001b[39m\u001b[32m~\\anaconda3\\envs\\indicf5\\Lib\\site-packages\\datasets\\iterable_dataset.py:1856\u001b[39m, in \u001b[36mFormattedExamplesIterable.__iter__\u001b[39m\u001b[34m(self)\u001b[39m\n\u001b[32m   1849\u001b[39m     formatter = get_formatter(\n\u001b[32m   1850\u001b[39m         \u001b[38;5;28mself\u001b[39m.formatting.format_type,\n\u001b[32m   1851\u001b[39m         features=\u001b[38;5;28mself\u001b[39m._features \u001b[38;5;28;01mif\u001b[39;00m \u001b[38;5;129;01mnot\u001b[39;00m \u001b[38;5;28mself\u001b[39m.ex_iterable.is_typed \u001b[38;5;28;01melse\u001b[39;00m \u001b[38;5;28;01mNone\u001b[39;00m,\n\u001b[32m   1852\u001b[39m         token_per_repo_id=\u001b[38;5;28mself\u001b[39m.token_per_repo_id,\n\u001b[32m   1853\u001b[39m     )\n\u001b[32m   1854\u001b[39m \u001b[38;5;28;01mif\u001b[39;00m \u001b[38;5;28mself\u001b[39m.ex_iterable.iter_arrow:\n\u001b[32m   1855\u001b[39m     \u001b[38;5;66;03m# feature casting (inc column addition) handled within self._iter_arrow()\u001b[39;00m\n\u001b[32m-> \u001b[39m\u001b[32m1856\u001b[39m     \u001b[38;5;28;01mfor\u001b[39;00m key, pa_table \u001b[38;5;129;01min\u001b[39;00m \u001b[38;5;28mself\u001b[39m._iter_arrow():\n\u001b[32m   1857\u001b[39m         batch = formatter.format_batch(pa_table)\n\u001b[32m   1858\u001b[39m         \u001b[38;5;28;01mfor\u001b[39;00m example \u001b[38;5;129;01min\u001b[39;00m _batch_to_examples(batch):\n",
      "\u001b[36mFile \u001b[39m\u001b[32m~\\anaconda3\\envs\\indicf5\\Lib\\site-packages\\datasets\\iterable_dataset.py:1879\u001b[39m, in \u001b[36mFormattedExamplesIterable._iter_arrow\u001b[39m\u001b[34m(self)\u001b[39m\n\u001b[32m   1877\u001b[39m \u001b[38;5;28;01mif\u001b[39;00m \u001b[38;5;129;01mnot\u001b[39;00m \u001b[38;5;28mself\u001b[39m.features:\n\u001b[32m   1878\u001b[39m     \u001b[38;5;28;01myield from\u001b[39;00m \u001b[38;5;28mself\u001b[39m.ex_iterable._iter_arrow()\n\u001b[32m-> \u001b[39m\u001b[32m1879\u001b[39m \u001b[38;5;28;01mfor\u001b[39;00m key, pa_table \u001b[38;5;129;01min\u001b[39;00m \u001b[38;5;28mself\u001b[39m.ex_iterable._iter_arrow():\n\u001b[32m   1880\u001b[39m     columns = \u001b[38;5;28mset\u001b[39m(pa_table.column_names)\n\u001b[32m   1881\u001b[39m     schema = \u001b[38;5;28mself\u001b[39m.features.arrow_schema\n",
      "\u001b[36mFile \u001b[39m\u001b[32m~\\anaconda3\\envs\\indicf5\\Lib\\site-packages\\datasets\\iterable_dataset.py:476\u001b[39m, in \u001b[36mRebatchedArrowExamplesIterable._iter_arrow\u001b[39m\u001b[34m(self)\u001b[39m\n\u001b[32m    474\u001b[39m     previous_state = \u001b[38;5;28mself\u001b[39m.ex_iterable.state_dict()\n\u001b[32m    475\u001b[39m     \u001b[38;5;28mself\u001b[39m._state_dict[\u001b[33m\"\u001b[39m\u001b[33mprevious_state\u001b[39m\u001b[33m\"\u001b[39m] = previous_state\n\u001b[32m--> \u001b[39m\u001b[32m476\u001b[39m \u001b[38;5;28;01mfor\u001b[39;00m key, pa_table \u001b[38;5;129;01min\u001b[39;00m iterator:\n\u001b[32m    477\u001b[39m     \u001b[38;5;28;01mfor\u001b[39;00m num_chunks_since_previous_state, chunk \u001b[38;5;129;01min\u001b[39;00m \u001b[38;5;28menumerate\u001b[39m(pa_table.to_reader(max_chunksize=\u001b[38;5;28mself\u001b[39m.batch_size)):\n\u001b[32m    478\u001b[39m         \u001b[38;5;28;01mif\u001b[39;00m num_chunks_to_skip > \u001b[32m1\u001b[39m:\n",
      "\u001b[36mFile \u001b[39m\u001b[32m~\\anaconda3\\envs\\indicf5\\Lib\\site-packages\\datasets\\iterable_dataset.py:128\u001b[39m, in \u001b[36m_convert_to_arrow\u001b[39m\u001b[34m(iterable, batch_size, drop_last_batch)\u001b[39m\n\u001b[32m    126\u001b[39m     \u001b[38;5;28;01mreturn\u001b[39;00m\n\u001b[32m    127\u001b[39m iterator = \u001b[38;5;28miter\u001b[39m(iterable)\n\u001b[32m--> \u001b[39m\u001b[32m128\u001b[39m \u001b[38;5;28;01mfor\u001b[39;00m key, example \u001b[38;5;129;01min\u001b[39;00m iterator:\n\u001b[32m    129\u001b[39m     iterator_batch = islice(iterator, batch_size - \u001b[32m1\u001b[39m)\n\u001b[32m    130\u001b[39m     key_examples_list = [(key, example)] + \u001b[38;5;28mlist\u001b[39m(iterator_batch)\n",
      "\u001b[36mFile \u001b[39m\u001b[32m~\\anaconda3\\envs\\indicf5\\Lib\\site-packages\\datasets\\iterable_dataset.py:222\u001b[39m, in \u001b[36mExamplesIterable.__iter__\u001b[39m\u001b[34m(self)\u001b[39m\n\u001b[32m    220\u001b[39m \u001b[38;5;28;01mfor\u001b[39;00m gen_kwags \u001b[38;5;129;01min\u001b[39;00m islice(_split_gen_kwargs(\u001b[38;5;28mself\u001b[39m.kwargs, max_num_jobs=\u001b[38;5;28mself\u001b[39m.num_shards), shard_idx_start, \u001b[38;5;28;01mNone\u001b[39;00m):\n\u001b[32m    221\u001b[39m     shard_example_idx_start = \u001b[38;5;28mself\u001b[39m._state_dict[\u001b[33m\"\u001b[39m\u001b[33mshard_example_idx\u001b[39m\u001b[33m\"\u001b[39m] \u001b[38;5;28;01mif\u001b[39;00m \u001b[38;5;28mself\u001b[39m._state_dict \u001b[38;5;28;01melse\u001b[39;00m \u001b[32m0\u001b[39m\n\u001b[32m--> \u001b[39m\u001b[32m222\u001b[39m     \u001b[38;5;28;01mfor\u001b[39;00m key_example \u001b[38;5;129;01min\u001b[39;00m islice(\u001b[38;5;28mself\u001b[39m.generate_examples_fn(**gen_kwags), shard_example_idx_start, \u001b[38;5;28;01mNone\u001b[39;00m):\n\u001b[32m    223\u001b[39m         \u001b[38;5;28;01mif\u001b[39;00m \u001b[38;5;28mself\u001b[39m._state_dict:\n\u001b[32m    224\u001b[39m             \u001b[38;5;28mself\u001b[39m._state_dict[\u001b[33m\"\u001b[39m\u001b[33mshard_example_idx\u001b[39m\u001b[33m\"\u001b[39m] += \u001b[32m1\u001b[39m\n",
      "\u001b[36mFile \u001b[39m\u001b[32m~\\.cache\\huggingface\\modules\\datasets_modules\\datasets\\facebook--voxpopuli\\b5ff837284f0778eefe0f642734e142d8c3f574eba8c9c8a4b13602297f73604\\voxpopuli.py:221\u001b[39m, in \u001b[36mVoxpopuli._generate_examples\u001b[39m\u001b[34m(self, audio_archives, local_extracted_archives_paths, metadata_paths)\u001b[39m\n\u001b[32m    215\u001b[39m audio_id = audio_filename.split(os.sep)[-\u001b[32m1\u001b[39m].split(\u001b[33m\"\u001b[39m\u001b[33m.wav\u001b[39m\u001b[33m\"\u001b[39m)[\u001b[32m0\u001b[39m]\n\u001b[32m    216\u001b[39m path = os.path.join(local_extracted_archive_path, audio_filename) \u001b[38;5;28;01mif\u001b[39;00m local_extracted_archive_path \u001b[38;5;28;01melse\u001b[39;00m audio_filename\n\u001b[32m    218\u001b[39m \u001b[38;5;28;01myield\u001b[39;00m audio_id, {\n\u001b[32m    219\u001b[39m     \u001b[33m\"\u001b[39m\u001b[33maudio_id\u001b[39m\u001b[33m\"\u001b[39m: audio_id,\n\u001b[32m    220\u001b[39m     \u001b[33m\"\u001b[39m\u001b[33mlanguage\u001b[39m\u001b[33m\"\u001b[39m: lang,\n\u001b[32m--> \u001b[39m\u001b[32m221\u001b[39m     **{feature: metadata[audio_id][feature] \u001b[38;5;28;01mfor\u001b[39;00m feature \u001b[38;5;129;01min\u001b[39;00m features},\n\u001b[32m    222\u001b[39m     \u001b[33m\"\u001b[39m\u001b[33maudio\u001b[39m\u001b[33m\"\u001b[39m: {\u001b[33m\"\u001b[39m\u001b[33mpath\u001b[39m\u001b[33m\"\u001b[39m: path, \u001b[33m\"\u001b[39m\u001b[33mbytes\u001b[39m\u001b[33m\"\u001b[39m: audio_file.read()},\n\u001b[32m    223\u001b[39m }\n",
      "\u001b[36mFile \u001b[39m\u001b[32m~\\.cache\\huggingface\\modules\\datasets_modules\\datasets\\facebook--voxpopuli\\b5ff837284f0778eefe0f642734e142d8c3f574eba8c9c8a4b13602297f73604\\voxpopuli.py:221\u001b[39m, in \u001b[36m<dictcomp>\u001b[39m\u001b[34m(.0)\u001b[39m\n\u001b[32m    215\u001b[39m audio_id = audio_filename.split(os.sep)[-\u001b[32m1\u001b[39m].split(\u001b[33m\"\u001b[39m\u001b[33m.wav\u001b[39m\u001b[33m\"\u001b[39m)[\u001b[32m0\u001b[39m]\n\u001b[32m    216\u001b[39m path = os.path.join(local_extracted_archive_path, audio_filename) \u001b[38;5;28;01mif\u001b[39;00m local_extracted_archive_path \u001b[38;5;28;01melse\u001b[39;00m audio_filename\n\u001b[32m    218\u001b[39m \u001b[38;5;28;01myield\u001b[39;00m audio_id, {\n\u001b[32m    219\u001b[39m     \u001b[33m\"\u001b[39m\u001b[33maudio_id\u001b[39m\u001b[33m\"\u001b[39m: audio_id,\n\u001b[32m    220\u001b[39m     \u001b[33m\"\u001b[39m\u001b[33mlanguage\u001b[39m\u001b[33m\"\u001b[39m: lang,\n\u001b[32m--> \u001b[39m\u001b[32m221\u001b[39m     **{feature: metadata[audio_id][feature] \u001b[38;5;28;01mfor\u001b[39;00m feature \u001b[38;5;129;01min\u001b[39;00m features},\n\u001b[32m    222\u001b[39m     \u001b[33m\"\u001b[39m\u001b[33maudio\u001b[39m\u001b[33m\"\u001b[39m: {\u001b[33m\"\u001b[39m\u001b[33mpath\u001b[39m\u001b[33m\"\u001b[39m: path, \u001b[33m\"\u001b[39m\u001b[33mbytes\u001b[39m\u001b[33m\"\u001b[39m: audio_file.read()},\n\u001b[32m    223\u001b[39m }\n",
      "\u001b[31mKeyError\u001b[39m: 'train_part_0/20180418-0900-PLENARY-3-en_20180418-08:50:36_17'"
     ]
    }
   ],
   "source": [
    "from itertools import islice\n",
    "sample = next(islice(dataset, 2, 3))\n",
    "sample"
   ]
  },
  {
   "cell_type": "code",
   "execution_count": null,
   "id": "e0b222b1-b4b4-4603-b48e-5556d4ca77fb",
   "metadata": {},
   "outputs": [],
   "source": [
    "from IPython.display import Audio\n",
    "Audio(example[\"audio\"][\"array\"], rate=16000)"
   ]
  },
  {
   "cell_type": "code",
   "execution_count": null,
   "id": "5f4bd4d6-aa6e-43cb-bb8d-6a23c2bc7df4",
   "metadata": {},
   "outputs": [],
   "source": [
    "array = sample[\"audio\"][\"array\"]\n",
    "sampling_rate = sample[\"audio\"][\"sampling_rate\"]"
   ]
  },
  {
   "cell_type": "code",
   "execution_count": null,
   "id": "64e969cc-f3fc-49a0-8705-90ab7f3827bd",
   "metadata": {},
   "outputs": [],
   "source": [
    "from matplotlib.pyplot import plt\n",
    "import librosa.display\n",
    "import numpy as np"
   ]
  },
  {
   "cell_type": "code",
   "execution_count": null,
   "id": "38eefb7b-89dc-4db9-8547-e9832398a962",
   "metadata": {},
   "outputs": [],
   "source": [
    "plt.figure().set_figwidth(10)\n",
    "librosa.display.waveshow(array, sr=sampling_rate)"
   ]
  },
  {
   "cell_type": "code",
   "execution_count": null,
   "id": "109add96-5581-48f0-98f4-db9840dc301c",
   "metadata": {},
   "outputs": [],
   "source": [
    "D = librosa.stft(array)\n",
    "S_db = librosa.aplitude_to_db(np.abs(D), ref=np.max)"
   ]
  },
  {
   "cell_type": "code",
   "execution_count": null,
   "id": "be9c1227-396a-4b57-ae6d-51b8bc114889",
   "metadata": {},
   "outputs": [],
   "source": [
    "plt.figure().set_fig_width(10)\n",
    "librosa.display.specshow(S_db, x_axis = 'time', y_axis = 'hz')\n",
    "plt.colorbar()\n",
    "plt.show()"
   ]
  },
  {
   "cell_type": "code",
   "execution_count": null,
   "id": "ca7efa59-da02-46a6-9ba2-06077d6f94e4",
   "metadata": {},
   "outputs": [],
   "source": [
    "from transformers import pipeline"
   ]
  },
  {
   "cell_type": "code",
   "execution_count": null,
   "id": "c44c3017-647c-4f9a-b89d-8462a8aa9e74",
   "metadata": {},
   "outputs": [],
   "source": [
    "asr = pipeline(\"automatic-speech-recognition\")"
   ]
  },
  {
   "cell_type": "code",
   "execution_count": null,
   "id": "ecf1af4f-d328-4990-b369-929da7527c3d",
   "metadata": {},
   "outputs": [],
   "source": [
    "asr(array)"
   ]
  },
  {
   "cell_type": "code",
   "execution_count": null,
   "id": "c11c6996-04e3-4b24-adf7-829b92e61034",
   "metadata": {},
   "outputs": [],
   "source": []
  }
 ],
 "metadata": {
  "kernelspec": {
   "display_name": "Python (indicf5)",
   "language": "python",
   "name": "indicf5"
  },
  "language_info": {
   "codemirror_mode": {
    "name": "ipython",
    "version": 3
   },
   "file_extension": ".py",
   "mimetype": "text/x-python",
   "name": "python",
   "nbconvert_exporter": "python",
   "pygments_lexer": "ipython3",
   "version": "3.11.11"
  }
 },
 "nbformat": 4,
 "nbformat_minor": 5
}
